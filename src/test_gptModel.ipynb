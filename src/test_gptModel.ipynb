{
 "cells": [
  {
   "cell_type": "code",
   "execution_count": 1,
   "metadata": {},
   "outputs": [],
   "source": [
    "from config import config\n",
    "import configparser\n",
    "\n",
    "# Parse config.ini file\n",
    "config = configparser.ConfigParser()\n",
    "config.read('config.ini')\n",
    "\n",
    "# Extract API keys\n",
    "openai_api_key = config['OPENAI']['token']"
   ]
  },
  {
   "cell_type": "code",
   "execution_count": null,
   "metadata": {},
   "outputs": [
    {
     "data": {
      "text/plain": [
       "'The 2020 World Series was played at Globe Life Field in Arlington, Texas.'"
      ]
     },
     "execution_count": 2,
     "metadata": {},
     "output_type": "execute_result"
    }
   ],
   "source": [
    "from openai import OpenAI\n",
    "\n",
    "client = OpenAI(\n",
    "    api_key = openai_api_key,\n",
    ")\n",
    "\n",
    "response = client.chat.completions.create(\n",
    "  model=\"gpt-3.5-turbo\",\n",
    "  messages=[\n",
    "    {\"role\": \"system\", \"content\": \"You are a helpful assistant.\"},\n",
    "    {\"role\": \"user\", \"content\": \"Who won the world series in 2020?\"},\n",
    "    {\"role\": \"assistant\", \"content\": \"The Los Angeles Dodgers won the World Series in 2020.\"},\n",
    "    {\"role\": \"user\", \"content\": \"Where was it played?\"}\n",
    "  ]\n",
    ")\n",
    "\n",
    "response.choices[0].message.content"
   ]
  },
  {
   "cell_type": "code",
   "execution_count": 11,
   "metadata": {},
   "outputs": [
    {
     "name": "stdout",
     "output_type": "stream",
     "text": [
      "A reminder about an upcoming Bread & Sandwich Night where participants will make sandwiches with potatoes, mushrooms, veggies, and spices, while also making the bread from scratch together in an interactive, group-focused activity divided into categories of tasks.\n"
     ]
    }
   ],
   "source": [
    "text = f\"\"\"\n",
    "Hey everyone! 🌟\n",
    "\n",
    "Just a quick reminder about our Bread & Sandwich Night coming up! 🍞🥪 We're making delicious sandwiches with a mix of potatoes, mushrooms, veggies, and spices—and the best part? We'll be making the bread from scratch together! 🙌\n",
    "\n",
    "🗓 When: Tuesday, 8th October - the night before we feast!\n",
    "✨ We'll turn it into a fun group activity—think of it as our own little bake-off. 😊\n",
    "\n",
    "I've divided the tasks into a few categories so that we can all be equally involved. Here are the 2-3 categories of things to do:\n",
    "\n",
    "Prepping the Sandwich Mix (Potato/Mushrooms/Veggies & Spices) 🥔🍄\n",
    "Kneading and Preparing the Bread Dough 🍞\n",
    "Decorating & Assembling Team 🌿✨\n",
    "Please comment below and put yourself in a category, so we can be around equally divided! Let's make this a night full of laughter, teamwork, and amazing food. 🤗💖\n",
    "\n",
    "Can't wait to see you all get creative with your aprons on! 👩‍🍳👨‍🍳\n",
    "\"\"\"\n",
    "prompt = f\"\"\"\n",
    "Summarize the text delimited by triple backticks \\ \n",
    "into a single sentence.\n",
    "```{text}```\n",
    "\"\"\"\n",
    "\n",
    "response = client.chat.completions.create(\n",
    "    model=\"gpt-3.5-turbo\",\n",
    "    messages=[\n",
    "        {\"role\": \"user\", \"content\": prompt}\n",
    "    ]\n",
    ")\n",
    "print(response.choices[0].message.content)"
   ]
  }
 ],
 "metadata": {
  "kernelspec": {
   "display_name": ".venv",
   "language": "python",
   "name": "python3"
  },
  "language_info": {
   "codemirror_mode": {
    "name": "ipython",
    "version": 3
   },
   "file_extension": ".py",
   "mimetype": "text/x-python",
   "name": "python",
   "nbconvert_exporter": "python",
   "pygments_lexer": "ipython3",
   "version": "3.9.6"
  }
 },
 "nbformat": 4,
 "nbformat_minor": 2
}
