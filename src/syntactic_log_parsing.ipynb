{
 "cells": [
  {
   "cell_type": "code",
   "execution_count": null,
   "metadata": {},
   "outputs": [
    {
     "ename": "ImportError",
     "evalue": "cannot import name 'Format_output' from 'format_output' (/Users/navneetsharma/Documents/NMBU/MS Data Science @ NMBU/Master's Thesis/semantic_log_parsing/src/format_output.py)",
     "output_type": "error",
     "traceback": [
      "\u001b[0;31m---------------------------------------------------------------------------\u001b[0m",
      "\u001b[0;31mImportError\u001b[0m                               Traceback (most recent call last)",
      "Cell \u001b[0;32mIn[24], line 11\u001b[0m\n\u001b[1;32m      7\u001b[0m \u001b[38;5;28;01mfrom\u001b[39;00m \u001b[38;5;21;01mgpt_model\u001b[39;00m \u001b[38;5;28;01mimport\u001b[39;00m get_completion_from_gpt\n\u001b[1;32m      8\u001b[0m \u001b[38;5;66;03m#from claude import get_completion_from_claude\u001b[39;00m\n\u001b[0;32m---> 11\u001b[0m \u001b[38;5;28;01mfrom\u001b[39;00m \u001b[38;5;21;01mformat_output\u001b[39;00m \u001b[38;5;28;01mimport\u001b[39;00m Format_output\n",
      "\u001b[0;31mImportError\u001b[0m: cannot import name 'Format_output' from 'format_output' (/Users/navneetsharma/Documents/NMBU/MS Data Science @ NMBU/Master's Thesis/semantic_log_parsing/src/format_output.py)"
     ]
    }
   ],
   "source": [
    "import time\n",
    "import os\n",
    "import logging\n",
    "from pathlib import Path\n",
    "import datetime\n",
    "from config import config\n",
    "from gpt_model import get_completion_from_gpt\n",
    "#from claude import get_completion_from_claude"
   ]
  },
  {
   "cell_type": "code",
   "execution_count": 26,
   "metadata": {},
   "outputs": [],
   "source": [
    "import sys\n",
    "sys.path.append('/Users/navneetsharma/Documents/NMBU/MS Data Science @ NMBU/Master\\'s Thesis/semantic_log_parsing/src/')\n"
   ]
  },
  {
   "cell_type": "code",
   "execution_count": 27,
   "metadata": {},
   "outputs": [
    {
     "ename": "ImportError",
     "evalue": "cannot import name 'Format_output' from 'format_output' (/Users/navneetsharma/Documents/NMBU/MS Data Science @ NMBU/Master's Thesis/semantic_log_parsing/src/format_output.py)",
     "output_type": "error",
     "traceback": [
      "\u001b[0;31m---------------------------------------------------------------------------\u001b[0m",
      "\u001b[0;31mImportError\u001b[0m                               Traceback (most recent call last)",
      "Cell \u001b[0;32mIn[27], line 1\u001b[0m\n\u001b[0;32m----> 1\u001b[0m \u001b[38;5;28;01mfrom\u001b[39;00m \u001b[38;5;21;01mformat_output\u001b[39;00m \u001b[38;5;28;01mimport\u001b[39;00m Format_output\n\u001b[1;32m      3\u001b[0m \u001b[38;5;66;03m# Example usage:\u001b[39;00m\n\u001b[1;32m      4\u001b[0m response \u001b[38;5;241m=\u001b[39m \u001b[38;5;124m\"\u001b[39m\u001b[38;5;124mSome log message response with details `Log Template`.\u001b[39m\u001b[38;5;124m\"\u001b[39m\n",
      "\u001b[0;31mImportError\u001b[0m: cannot import name 'Format_output' from 'format_output' (/Users/navneetsharma/Documents/NMBU/MS Data Science @ NMBU/Master's Thesis/semantic_log_parsing/src/format_output.py)"
     ]
    }
   ],
   "source": [
    "from format_output import Format_output\n",
    "\n",
    "# Example usage:\n",
    "response = \"Some log message response with details `Log Template`.\"\n",
    "formatted_response = Format_output.format_response(response)\n",
    "\n",
    "# Save formatted output as JSON\n",
    "Format_output.save_json_output(\"output.json\", formatted_response)\n"
   ]
  },
  {
   "cell_type": "code",
   "execution_count": 3,
   "metadata": {},
   "outputs": [],
   "source": [
    "# Set the ROOT_DIR to your repository root.\n",
    "ROOT_DIR = os.path.dirname(os.path.abspath(''))\n",
    "# Set the DATA_DIR to the directory where your data resides.\n",
    "DATA_DIR = os.path.join(ROOT_DIR, 'data')"
   ]
  },
  {
   "cell_type": "code",
   "execution_count": null,
   "metadata": {},
   "outputs": [],
   "source": [
    "save_dir_path = os.path.join(ROOT_DIR, 'results')\n",
    "\n",
    "now_time = datetime.datetime.now()\n",
    "date_string = now_time.strftime('%Y-%m-%d-%H-%M-%S')\n",
    "save_dir_separator = now_time.strftime('%Y%m%d%H%M%S')\n",
    "\n",
    "save_dir_now = os.path.join(save_dir_path, save_dir_separator)\n",
    "raw_save_dir = os.path.join(save_dir_now, \"raw_results/\")\n",
    "Path(raw_save_dir).mkdir(parents=True, exist_ok=True)\n",
    "raw_output_file_name = 'output.txt'\n",
    "raw_output_file_path = raw_save_dir + raw_output_file_name\n",
    "prompt_file_name = 'prompt.txt'\n",
    "prompt_file_path = raw_save_dir + prompt_file_name\n",
    "\n",
    "formatted_save_dir = os.path.join(save_dir_now, \"formatted_results/\")\n",
    "Path(formatted_save_dir).mkdir(parents=True, exist_ok=True)\n",
    "formatted_output_file_name = 'output.csv'\n",
    "formatted_output_file_path = formatted_save_dir + formatted_output_file_name\n",
    "\n",
    "# the application logs\n",
    "log_save_dir = os.path.join(save_dir_now, \"logs/\")  # for the outputs of logging module\n",
    "Path(log_save_dir).mkdir(parents=True, exist_ok=True)\n",
    "log_file_name = 'output.log'\n",
    "app_log_file_path = log_save_dir + log_file_name\n",
    "logging.basicConfig(filename=app_log_file_path, filemode='a',\n",
    "                        format='%(asctime)s - %(name)s - %(levelname)s - %(message)s',\n",
    "                        datefmt='%d-%b-%y %H:%M:%S', level=logging.INFO, force = True)\n",
    "\n",
    "# raw datasets to be analyzed\n",
    "log_file_path = os.path.join(DATA_DIR, 'log_messages_corrected.txt')\n",
    "\n",
    "#ground truth for the analyzed dataset\n",
    "ground_truth = os.path.join(DATA_DIR, 'ground_truth_corrected_by_Khan2022.txt')"
   ]
  },
  {
   "cell_type": "code",
   "execution_count": 14,
   "metadata": {},
   "outputs": [],
   "source": [
    "# load logs from log file line by line\n",
    "def load_logs(file_path):\n",
    "    logging.info(\"logs will be loaded from \" + str(file_path))\n",
    "    with open(file_path, 'r') as file:\n",
    "        log_message = file.readlines()\n",
    "    return log_message\n",
    "\n",
    "logs = load_logs(log_file_path)"
   ]
  },
  {
   "cell_type": "code",
   "execution_count": 15,
   "metadata": {},
   "outputs": [],
   "source": [
    "#to keep the outputs of the model\n",
    "output_data = []\n",
    "index = 0 \n",
    "\n",
    "# logs per call\n",
    "logs_per_call = 1"
   ]
  },
  {
   "cell_type": "code",
   "execution_count": null,
   "metadata": {},
   "outputs": [],
   "source": [
    "# to run with few-shot prompt\n",
    "while index < len(logs):\n",
    "    log_message = str(logs[index])\n",
    "    logging.info(\"current index: \" + str(index))\n",
    "    logging.info(\"current log message: \")\n",
    "    logging.info(log_message)\n",
    "    \n",
    "    prompt_enh = f\"\"\"\n",
    "    You will be provided with a log message delimited by <MSG> and </MSG>. \n",
    "    The log texts describe various system events in a software system. \n",
    "    A log message usually contains a header that is automatically produced by the logging framework, including information such as timestamp, class, and logging level (INFO, DEBUG, WARN etc.). \n",
    "    The log message typically consists of two parts: \n",
    "    1. Template - message body, that contains constant strings (or keywords) describing the system events; \n",
    "    2. Parameters/Variables - dynamic variables, which reflect specific runtime status.\n",
    "    You must identify and abstract all the dynamic variables in the log message with suitable placeholders inside angle brackets to extract the corresponding template.\n",
    "    You must output the template corresponding to the log message. Print only the input log's template surrounded by <TPL> and </TPL>. \n",
    "    Never print an explanation of how the template is constructed.\n",
    "\n",
    "    Here are a few examples of log messages (labeled with Q:) and corresponding templates (labeled with A:):\n",
    "\n",
    "    Q: <MSG>[081109 204453 34 INFO dfs.FSNamesystem: BLOCK* NameSystem.addStoredBlock: blockMap updated: 10.250.11.85:50010 is added to blk_2377150260128098806 size 67108864]</MSG>\n",
    "    A: <TPL>[BLOCK* NameSystem.addStoredBlock: blockMap updated: <*>:<*> is added to <*> size <*>]</TPL>\n",
    "\n",
    "    Q: <MSG>- 1129734520 2005.10.19 R17-M0-N0-I:J18-U01 2005-10-19-08.08.40.058960 R17-M0-N0-I:J18-U01 RAS KERNEL INFO shutdown complete</MSG>\n",
    "    A: <TPL>shutdown complete</TPL>\n",
    "\n",
    "    Q: <MSG>20231114T101914E ERROR 14 while processing line 123: cannot find input '42'</MSG>\n",
    "    A: <TPL>ERROR <*> while processing line <*>: cannot find input <*></TPL>\n",
    "\n",
    "    Q: <MSG>2023-01-14 23:05:14 INFO: Reading data from /user/input/file.txt</MSG>\n",
    "    A: <TPL>Reading data from <*> </TPL>\n",
    "\n",
    "    Here is the input log message: <MSG>{log_message}</MSG>\n",
    "    Please print the corresponding template.\n",
    "    \"\"\"\n",
    "    # response = get_completion_from_claude(prompt_enh)\n",
    "    response = get_completion_from_gpt(prompt_enh)\n",
    "    logging.info(\"the response received from the model: \")\n",
    "    formatted_response = format_response(response)\n",
    "    logging.info(formatted_response)\n",
    "    output_data.append(formatted_response)\n",
    "    if index == 0:\n",
    "        save_prompt(prompt_file_path, prompt_enh)\n",
    "\n",
    "    index += logs_per_call\n",
    "\n",
    "    # Sleep for 1 second after every log message\n",
    "    time.sleep(1)"
   ]
  }
 ],
 "metadata": {
  "kernelspec": {
   "display_name": ".venv",
   "language": "python",
   "name": "python3"
  },
  "language_info": {
   "codemirror_mode": {
    "name": "ipython",
    "version": 3
   },
   "file_extension": ".py",
   "mimetype": "text/x-python",
   "name": "python",
   "nbconvert_exporter": "python",
   "pygments_lexer": "ipython3",
   "version": "3.12.5"
  }
 },
 "nbformat": 4,
 "nbformat_minor": 2
}
