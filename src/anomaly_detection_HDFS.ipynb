{
 "cells": [
  {
   "cell_type": "code",
   "execution_count": 25,
   "metadata": {},
   "outputs": [],
   "source": [
    "import pandas as pd\n",
    "import random\n",
    "import re\n",
    "import os\n",
    "\n",
    "from config import config\n",
    "from gpt_model import get_completion_from_gpt\n",
    "\n",
    "\n",
    "# Set the ROOT_DIR to your repository root.\n",
    "ROOT_DIR = os.path.dirname(os.path.abspath(''))\n",
    "\n",
    "# Set the DATA_DIR to the directory where your data resides.\n",
    "DATA_DIR = os.path.join(ROOT_DIR, 'data/')\n",
    "\n",
    "# Load the uploaded CSV files\n",
    "anomaly_label_path = os.path.join(DATA_DIR, \"deepLoglizer_data/anomaly_label.csv\")\n",
    "hdfs_logs_file_path = os.path.join(DATA_DIR, \"logs_and_annotations/HDFS/logs.txt\")\n",
    "\n",
    "\n",
    "save_dir_path = os.path.join(ROOT_DIR, 'results')\n",
    "output_file_path = os.path.join(save_dir_path, \"hdfs_log_labels.csv\")\n",
    "\n"
   ]
  },
  {
   "cell_type": "code",
   "execution_count": 26,
   "metadata": {},
   "outputs": [],
   "source": [
    "anomaly_label_df = pd.read_csv(anomaly_label_path)\n",
    "\n",
    "# Read the first 200 lines from log.txt into a list\n",
    "with open(hdfs_logs_file_path, 'r') as log_file:\n",
    "    hdfs_log_lines = [line.strip() for line in log_file.readlines()[:200]]\n",
    "\n"
   ]
  },
  {
   "cell_type": "code",
   "execution_count": 27,
   "metadata": {},
   "outputs": [
    {
     "name": "stdout",
     "output_type": "stream",
     "text": [
      "200\n"
     ]
    }
   ],
   "source": [
    "print(len(hdfs_log_lines))\n"
   ]
  },
  {
   "cell_type": "code",
   "execution_count": 28,
   "metadata": {},
   "outputs": [
    {
     "name": "stdout",
     "output_type": "stream",
     "text": [
      "0: <ANM>blk_6888300867578983331,Normal</ANM>\n",
      "10: <ANM>blk_-7548149518969960333,Normal</ANM>\n",
      "20: <ANM>blk_1064470652608359218,Normal</ANM>\n",
      "30: <ANM>blk_1512136249403454074,Normal</ANM>\n",
      "40: <ANM>blk_8935202950442998446,Normal</ANM>\n",
      "50: <ANM>blk_-3681974396824196300,Normal</ANM>\n",
      "60: <ANM>blk_-997605125898553536,Normal</ANM>\n",
      "70: <ANM>blk_-8380267327243110056,Normal</ANM>\n",
      "80: <ANM>blk_1598414622053793245,Normal</ANM>\n",
      "90: <ANM>blk_3764801892187716497,Normal</ANM>\n",
      "100: <ANM>blk_7297060562345904886,Normal</ANM>\n",
      "110: <ANM>blk_-3792836284792472725,Normal</ANM>\n",
      "120: <ANM>blk_8861349372992394289,Normal</ANM>\n",
      "130: <ANM>blk_-4139299269696044017,Normal</ANM>\n",
      "140: <ANM>blk_4820650745157199554,Normal</ANM>\n",
      "150: <ANM>blk_3073404534069578592,Normal</ANM>\n",
      "160: <ANM>blk_8418106412701718933,Normal</ANM>\n",
      "170: <ANM>blk_5100975846124291571,Normal</ANM>\n",
      "180: <ANM>blk_-3693786175267111588,Normal</ANM>\n",
      "190: <ANM>blk_-5852844080027817147,Normal</ANM>\n",
      "Log labels saved to /Users/navneetsharma/Documents/NMBU/MS Data Science @ NMBU/Master's Thesis/semantic_log_parsing/results/hdfs_log_labels.csv\n"
     ]
    }
   ],
   "source": [
    "# Step 1: Generate log labels for HDFS logs\n",
    "output_lines = []\n",
    "counter_1 = 0\n",
    "\n",
    "for log in hdfs_log_lines:\n",
    "    prompt = f\"\"\"\n",
    "    You will be provided with a log message delimited by <MSG> and </MSG>. \n",
    "    The log texts describe various system events in a distributed file system. \n",
    "    Your task is to understand the semantics of the log message and extract the BlockId if present. \n",
    "    If no BlockId exists, output \"NoBlockId\". \n",
    "    Additionally, classify the log message as \"Normal\" or \"Anomaly\" based on its content.\n",
    "    Provide the result in the following format:\n",
    "\n",
    "    Here are a few examples of log messages (labeled with Q:) and corresponding templates (labeled with A:):\n",
    "\n",
    "    Q: <MSG>081110 224958 16603 INFO dfs.DataNode$DataXceiver: Receiving block blk_-2989288139685694818 src: /10.250.19.227:60160 dest: /10.250.19.227:50010</MSG>\n",
    "    A: <ANM>blk_-2989288139685694818,Normal</ANM>\n",
    "\n",
    "    Q: <MSG>081110 023456 6415 WARN dfs.DataNode$DataXceiver: 10.251.67.225:50010:Got exception while serving blk_-6900989714336081087 to /10.251.25.237:</MSG>\n",
    "    A: <ANM>blk_-6900989714336081087,Anomaly</ANM>\n",
    "    \n",
    "    Q: <MSG>081111 043140 19599 INFO dfs.DataNode$PacketResponder: PacketResponder 1 for block blk_-2680500627064966252 terminating</MSG>\n",
    "    A: <ANM>blk_-2680500627064966252,Normal</ANM>\n",
    "    \n",
    "    Output should always be like <ANM>BlockId,Label</ANM>.\n",
    "    Never print an explanation or description. Print only the result.\n",
    "    Here is the input log message: <MSG>{log}</MSG>\n",
    "    \"\"\"\n",
    "\n",
    "    # Replace get_completion_from_gpt with your LLM function\n",
    "    response = get_completion_from_gpt(prompt)\n",
    "\n",
    "    output_lines.append(response.strip())\n",
    "\n",
    "    if counter_1 % 10 == 0:\n",
    "        print(f'{counter_1}: {response}')\n",
    "        \n",
    "    counter_1 += 1\n",
    "\n",
    "# Save the results to a file\n",
    "with open(output_file_path, \"w\") as output_file:\n",
    "    output_file.write(\"BlockId,Label\\n\")\n",
    "    output_file.write(\"\\n\".join(output_lines))\n",
    "\n",
    "print(f\"Log labels saved to {output_file_path}\")\n"
   ]
  }
 ],
 "metadata": {
  "kernelspec": {
   "display_name": ".venv",
   "language": "python",
   "name": "python3"
  },
  "language_info": {
   "codemirror_mode": {
    "name": "ipython",
    "version": 3
   },
   "file_extension": ".py",
   "mimetype": "text/x-python",
   "name": "python",
   "nbconvert_exporter": "python",
   "pygments_lexer": "ipython3",
   "version": "3.9.6"
  }
 },
 "nbformat": 4,
 "nbformat_minor": 2
}
