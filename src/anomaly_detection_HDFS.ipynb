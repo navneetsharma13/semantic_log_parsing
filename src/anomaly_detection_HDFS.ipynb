{
 "cells": [
  {
   "cell_type": "code",
   "execution_count": 2,
   "metadata": {},
   "outputs": [],
   "source": [
    "import pandas as pd\n",
    "import random\n",
    "import re\n",
    "import os\n",
    "import seaborn as sns\n",
    "from math import pi\n",
    "from sklearn.metrics import accuracy_score, precision_score, recall_score, f1_score\n",
    "from config import config\n",
    "from gpt_model import get_completion_from_gpt\n",
    "\n",
    "from format_output import Format_output\n",
    "\n",
    "# Set the ROOT_DIR to your repository root.\n",
    "ROOT_DIR = os.path.dirname(os.path.abspath(''))\n",
    "\n",
    "# Set the DATA_DIR to the directory where your data resides.\n",
    "DATA_DIR = os.path.join(ROOT_DIR, 'data/')\n",
    "\n",
    "# Load the uploaded CSV files\n",
    "anomaly_dataset_path = os.path.join(DATA_DIR, \"deepLoglizer_data/hdfs_annotations.csv\")\n",
    "\n",
    "# Read the Excel file\n",
    "df = pd.read_csv(anomaly_dataset_path)\n",
    "\n",
    "# Assuming the log messages are in the third column\n",
    "hdfs_log_lines = df.iloc[:, 2]\n",
    "\n",
    "save_dir_path = os.path.join(ROOT_DIR, 'results')\n",
    "output_file_path = os.path.join(save_dir_path, \"hdfs_log_labels.csv\")"
   ]
  },
  {
   "cell_type": "code",
   "execution_count": 3,
   "metadata": {},
   "outputs": [
    {
     "name": "stdout",
     "output_type": "stream",
     "text": [
      "246\n"
     ]
    }
   ],
   "source": [
    "print(len(hdfs_log_lines))"
   ]
  },
  {
   "cell_type": "code",
   "execution_count": 4,
   "metadata": {},
   "outputs": [
    {
     "name": "stdout",
     "output_type": "stream",
     "text": [
      "0: <TPL>Anomaly</TPL>\n",
      "10: <TPL>Normal</TPL>\n",
      "20: <TPL>Normal</TPL>\n",
      "30: <TPL>Normal</TPL>\n",
      "40: <TPL>Normal</TPL>\n",
      "50: <TPL>Normal</TPL>\n",
      "60: <TPL>Normal</TPL>\n",
      "70: <TPL>Normal</TPL>\n",
      "80: <TPL>Normal</TPL>\n",
      "90: <TPL>Anomaly</TPL>\n",
      "100: <TPL>Normal</TPL>\n",
      "110: <TPL>Normal</TPL>\n",
      "120: <TPL>Normal</TPL>\n",
      "130: <TPL>Normal</TPL>\n",
      "140: <TPL>Normal</TPL>\n",
      "150: <TPL>Normal</TPL>\n",
      "160: <TPL>Normal</TPL>\n",
      "170: <TPL>Normal</TPL>\n",
      "180: <TPL>Normal</TPL>\n",
      "190: <TPL>Normal</TPL>\n",
      "200: <TPL>Normal</TPL>\n",
      "210: <TPL>Normal</TPL>\n",
      "220: <TPL>Normal</TPL>\n",
      "230: <TPL>Normal</TPL>\n",
      "240: <TPL>Normal</TPL>\n"
     ]
    }
   ],
   "source": [
    "# Step 1: Generate log labels for HDFS logs\n",
    "output_lines = []\n",
    "counter_1 = 0\n",
    "\n",
    "for log in hdfs_log_lines:\n",
    "    prompt = f\"\"\"\n",
    "    You will be provided with a log message delimited by <MSG> and </MSG>. \n",
    "    The log texts describe various system events in a distributed file system. \n",
    "    Your task is to understand the meaning of the log message and classify the log message. \n",
    "    Classify the log message as \"Normal\" or \"Anomaly\" based on its content.\n",
    "    Provide the result in the following format: <TPL>Label</TPL>.\n",
    "    Never print an explanation or description. Print only the result.\n",
    "    Here is the input log message: <MSG>{log}</MSG>\n",
    "    \"\"\"\n",
    "\n",
    "    # Replace get_completion_from_gpt with your LLM function\n",
    "    response = get_completion_from_gpt(prompt)\n",
    "\n",
    "    output_lines.append(response.strip())\n",
    "\n",
    "    if counter_1 % 10 == 0:\n",
    "        print(f'{counter_1}: {response}')\n",
    "        \n",
    "    counter_1 += 1\n"
   ]
  },
  {
   "cell_type": "code",
   "execution_count": 5,
   "metadata": {},
   "outputs": [
    {
     "name": "stdout",
     "output_type": "stream",
     "text": [
      "Log labels saved to /Users/navneetsharma/Documents/NMBU/MS Data Science @ NMBU/Master's Thesis/semantic_log_parsing/results/hdfs_log_labels.csv\n"
     ]
    }
   ],
   "source": [
    "# Save the results to a file\n",
    "with open(output_file_path, \"w\") as output_file:\n",
    "    output_file.write(\"Label\\n\")\n",
    "    output_file.write(\"\\n\".join(output_lines))\n",
    "\n",
    "print(f\"Log labels saved to {output_file_path}\")"
   ]
  },
  {
   "cell_type": "code",
   "execution_count": 6,
   "metadata": {},
   "outputs": [
    {
     "name": "stdout",
     "output_type": "stream",
     "text": [
      "Processed output saved to: /Users/navneetsharma/Documents/NMBU/MS Data Science @ NMBU/Master's Thesis/semantic_log_parsing/results/hdfs_log_labels.csv\n"
     ]
    }
   ],
   "source": [
    "# convert raw output into formatted file \n",
    "Format_output.remove_TPL_from_output(output_file_path, output_file_path)"
   ]
  },
  {
   "cell_type": "code",
   "execution_count": 7,
   "metadata": {},
   "outputs": [
    {
     "name": "stdout",
     "output_type": "stream",
     "text": [
      "HDFS Anomaly Detection Precision: 89.80%\n",
      "HDFS Anomaly Detection Recall: 86.99%\n",
      "HDFS Anomaly Detection F1-Score: 88.34%\n"
     ]
    }
   ],
   "source": [
    "# File paths\n",
    "processed_hdfs_labels_filepath = output_file_path\n",
    "\n",
    "# Load ground truth data\n",
    "ground_truth_hdfs = pd.read_csv(anomaly_dataset_path)\n",
    "ground_truth_hdfs_lables = ground_truth_hdfs['Label'].tolist()\n",
    "\n",
    "output_directory = os.path.dirname(processed_hdfs_labels_filepath)\n",
    "\n",
    "\n",
    "# Load processed output data\n",
    "with open(processed_hdfs_labels_filepath, 'r') as processed_file:\n",
    "    processed_hdfs_labels = [line.strip() for line in processed_file.readlines()]\n",
    " \n",
    "\n",
    "# Ensure the lists are of the same length for comparison\n",
    "min_length = min(len(ground_truth_hdfs_lables), len(processed_hdfs_labels))\n",
    "ground_truth_hdfs_lables = ground_truth_hdfs_lables[:min_length]\n",
    "processed_hdfs_labels = processed_hdfs_labels[:min_length]\n",
    "\n",
    "# Calculate evaluation metrics for processed_log_templates\n",
    "precision = precision_score(ground_truth_hdfs_lables, processed_hdfs_labels, average='weighted', zero_division=0)\n",
    "recall = recall_score(ground_truth_hdfs_lables, processed_hdfs_labels, average='weighted', zero_division=0)\n",
    "f1 = f1_score(ground_truth_hdfs_lables, processed_hdfs_labels, average='weighted', zero_division=0)\n",
    "\n",
    "# Print evaluation metrics for processed_log_templates\n",
    "print(f\"HDFS Anomaly Detection Precision: {precision * 100:.2f}%\")\n",
    "print(f\"HDFS Anomaly Detection Recall: {recall * 100:.2f}%\")\n",
    "print(f\"HDFS Anomaly Detection F1-Score: {f1 * 100:.2f}%\")"
   ]
  },
  {
   "cell_type": "code",
   "execution_count": 22,
   "metadata": {},
   "outputs": [
    {
     "data": {
      "image/png": "[encoded data removed]",
      "text/plain": [
       "<Figure size 800x600 with 1 Axes>"
      ]
     },
     "metadata": {},
     "output_type": "display_data"
    }
   ],
   "source": [
    "import matplotlib.pyplot as plt\n",
    "\n",
    "# Data for plotting\n",
    "metrics = ['Precision', 'Recall', 'F1 Score']\n",
    "values = [precision * 100, recall * 100, f1 * 100]\n",
    "\n",
    "\n",
    "# Defining light colors for the bars\n",
    "colors = ['#ded10c', '#90ee90', '#1374f0']  # Light blue, light green, light pink\n",
    "\n",
    "# Creating the bar plot\n",
    "plt.figure(figsize=(8, 6))\n",
    "plt.bar(metrics, values, color=colors)\n",
    "\n",
    "# Adding title and labels\n",
    "plt.title('Evaluation Metrics for HDFS Anomaly Detection')\n",
    "plt.ylabel('Percentage')\n",
    "plt.ylim(0, 100)  # Setting y-axis limit for better readability\n",
    "\n",
    "# Display the values on the bars\n",
    "for i, v in enumerate(values):\n",
    "    plt.text(i, v + 0.5, f\"{v:.2f}%\", color='black', ha='center')\n",
    "\n",
    "\n",
    "plt.savefig(os.path.join(output_directory, 'HDFS_labels_evaluation.png'), bbox_inches='tight')\n",
    "# Display the plot\n",
    "plt.show()\n"
   ]
  }
 ],
 "metadata": {
  "kernelspec": {
   "display_name": ".venv",
   "language": "python",
   "name": "python3"
  },
  "language_info": {
   "codemirror_mode": {
    "name": "ipython",
    "version": 3
   },
   "file_extension": ".py",
   "mimetype": "text/x-python",
   "name": "python",
   "nbconvert_exporter": "python",
   "pygments_lexer": "ipython3",
   "version": "3.9.6"
  }
 },
 "nbformat": 4,
 "nbformat_minor": 2
}
