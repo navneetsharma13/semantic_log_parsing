{
 "cells": [
  {
   "cell_type": "code",
   "execution_count": 2,
   "metadata": {},
   "outputs": [],
   "source": [
    "import os\n",
    "import logging\n",
    "from pathlib import Path\n",
    "import pandas as pd\n",
    "from nltk.metrics.distance import edit_distance\n",
    "from format_output import Format_output\n",
    "\n",
    "logger = logging.getLogger(__name__)"
   ]
  },
  {
   "cell_type": "code",
   "execution_count": 3,
   "metadata": {},
   "outputs": [],
   "source": [
    "# Calculate Longest Common Subsequence\n",
    "def lcs(X, Y): \n",
    "\t# find the length of the strings \n",
    "\tm = len(X) \n",
    "\tn = len(Y) \n",
    "\n",
    "\tL = [[None]*(n + 1) for i in range(m + 1)] \n",
    "\n",
    "\tfor i in range(m + 1): \n",
    "\t\tfor j in range(n + 1): \n",
    "\t\t\tif i == 0 or j == 0 : \n",
    "\t\t\t\tL[i][j] = 0\n",
    "\t\t\telif X[i-1] == Y[j-1]: \n",
    "\t\t\t\tL[i][j] = L[i-1][j-1]+1\n",
    "\t\t\telse: \n",
    "\t\t\t\tL[i][j] = max(L[i-1][j], L[i][j-1]) \n",
    "\n",
    "\treturn L[m][n] "
   ]
  },
  {
   "cell_type": "code",
   "execution_count": 4,
   "metadata": {},
   "outputs": [],
   "source": [
    "# Set the ROOT_DIR to your repository root.\n",
    "ROOT_DIR = os.path.dirname(os.path.abspath(''))\n",
    "# Set the DATA_DIR to the directory where your data resides.\n",
    "DATA_DIR = os.path.join(ROOT_DIR, 'data')"
   ]
  },
  {
   "cell_type": "code",
   "execution_count": 5,
   "metadata": {},
   "outputs": [],
   "source": [
    "# To read the excel files created during the manual post-processig process.\n",
    "read_dir = os.path.join(ROOT_DIR, 'processed-results')\n",
    "\n",
    "# To save the evaluation results\n",
    "eval_dir = os.path.join(ROOT_DIR, 'evaluation-results')\n",
    "\n",
    "Path(eval_dir).mkdir(parents=True, exist_ok=True)"
   ]
  },
  {
   "cell_type": "code",
   "execution_count": 6,
   "metadata": {},
   "outputs": [],
   "source": [
    "# These names should be changed for each experiment\n",
    "model = \"CodeUp\"\n",
    "shot = \"few\"\n",
    "\n",
    "experiment = f'{model}_{shot}'"
   ]
  },
  {
   "cell_type": "code",
   "execution_count": null,
   "metadata": {},
   "outputs": [],
   "source": []
  }
 ],
 "metadata": {
  "kernelspec": {
   "display_name": ".venv",
   "language": "python",
   "name": "python3"
  },
  "language_info": {
   "codemirror_mode": {
    "name": "ipython",
    "version": 3
   },
   "file_extension": ".py",
   "mimetype": "text/x-python",
   "name": "python",
   "nbconvert_exporter": "python",
   "pygments_lexer": "ipython3",
   "version": "3.9.6"
  }
 },
 "nbformat": 4,
 "nbformat_minor": 2
}
