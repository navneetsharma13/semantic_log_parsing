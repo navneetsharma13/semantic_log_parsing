{
 "cells": [
  {
   "cell_type": "code",
   "execution_count": 1,
   "metadata": {},
   "outputs": [],
   "source": [
    "import time\n",
    "import os\n",
    "import logging\n",
    "from pathlib import Path\n",
    "import datetime\n",
    "from config import config\n",
    "from gpt_model import get_completion_from_gpt\n",
    "from claude import get_completion_from_claude\n",
    "from format_output import Format_output\n",
    "import pandas as pd\n",
    "import matplotlib.pyplot as plt\n",
    "from sklearn.metrics import accuracy_score, precision_score, recall_score, f1_score"
   ]
  },
  {
   "cell_type": "code",
   "execution_count": 2,
   "metadata": {},
   "outputs": [],
   "source": [
    "# Set the ROOT_DIR to your repository root.\n",
    "ROOT_DIR = os.path.dirname(os.path.abspath(''))\n",
    "# Set the DATA_DIR to the directory where your data resides.\n",
    "DATA_DIR = os.path.join(ROOT_DIR, 'data/loghub_2k')"
   ]
  },
  {
   "cell_type": "code",
   "execution_count": 3,
   "metadata": {},
   "outputs": [],
   "source": [
    "save_dir_path = os.path.join(ROOT_DIR, 'results')\n",
    "\n",
    "now_time = datetime.datetime.now()\n",
    "date_string = \"Semantic_\" + now_time.strftime('%Y-%m-%d-%H-%M-%S')\n",
    "save_dir_separator = \"Semantic_\" + now_time.strftime('%Y%m%d%H%M%S')\n",
    "\n",
    "save_dir_now = os.path.join(save_dir_path, save_dir_separator)\n",
    "raw_save_dir = os.path.join(save_dir_now, \"semantic_raw_results/\")\n",
    "Path(raw_save_dir).mkdir(parents=True, exist_ok=True)\n",
    "semantic_raw_output_file_name = 'semantic_output.txt'\n",
    "semantic_raw_output_file_path = raw_save_dir + semantic_raw_output_file_name"
   ]
  },
  {
   "cell_type": "code",
   "execution_count": 4,
   "metadata": {},
   "outputs": [],
   "source": [
    "# File paths\n",
    "ground_truth_file_path = os.path.join(DATA_DIR, \"ground_truth_template.csv\")\n",
    "raw_log_file_path = os.path.join(DATA_DIR, \"combined_raw_logs.txt\")"
   ]
  },
  {
   "cell_type": "code",
   "execution_count": 5,
   "metadata": {},
   "outputs": [],
   "source": [
    "# Load ground truth data\n",
    "ground_truth_df = pd.read_csv(ground_truth_file_path)\n",
    "ground_truth_templates = ground_truth_df['EventTemplate'].tolist()\n",
    "ground_truth_systems = ground_truth_df['System'].tolist()"
   ]
  },
  {
   "cell_type": "code",
   "execution_count": 6,
   "metadata": {},
   "outputs": [],
   "source": [
    "# Load raw log messages\n",
    "with open(raw_log_file_path, 'r') as raw_file:\n",
    "    raw_logs = [line.strip() for line in raw_file.readlines()]\n"
   ]
  },
  {
   "cell_type": "code",
   "execution_count": 7,
   "metadata": {},
   "outputs": [],
   "source": [
    "# Ensure the lists are of the same length for comparison\n",
    "min_length = min(len(ground_truth_templates), len(raw_logs))\n",
    "ground_truth_templates = ground_truth_templates[:min_length]\n",
    "raw_logs = raw_logs[:min_length]\n",
    "ground_truth_systems = ground_truth_systems[:min_length]"
   ]
  },
  {
   "cell_type": "code",
   "execution_count": 8,
   "metadata": {},
   "outputs": [
    {
     "name": "stdout",
     "output_type": "stream",
     "text": [
      "0: <TPL> Initialization of worker environment successful for workers2 properties file located at /etc/httpd/conf/workers2.properties. </TPL>\n",
      "10: <TPL> Node-162 started boot action with command 1911. </TPL>\n",
      "20: <TPL> A ServerFileSystem domain panic occurred on storage442. </TPL>\n",
      "30: <TPL> ServerFileSystem domain cluster_root_backup is no longer served by node node-96. </TPL>\n",
      "40: <TPL> Temperature reading for gige7 interface is normal at 1073151998. </TPL>\n",
      "50: <TPL> Node node-148 detected network connection on network 5.5.226.0 via interface alt0. </TPL>\n",
      "60: <TPL>User unknown timed out after 900 seconds.</TPL>\n",
      "70: <TPL> User 'root' successfully logged in via the 'LOGIN' service with root privileges. </TPL>\n",
      "80: <TPL> Connection reset by peer, unable to retrieve client address in xinetd service. </TPL>\n",
      "90: <TPL> klogd startup succeeded. </TPL>\n",
      "100: <TPL> Kernel command line specifies read-only root filesystem with label 'LABEL=/' for booting the system quietly with Red Hat Graphical Boot. </TPL>\n",
      "110: <TPL> Console color set to VGA+ with 80x25 resolution in the kernel. </TPL>\n",
      "120: <TPL> rpc.idmapd startup succeeded. </TPL>\n",
      "130: <TPL> Enabling unmasked SIMD FPU exception support. </TPL>\n",
      "140: <TPL> Linux Plug and Play Support v0.97 by Adam Belay is being utilized in the system. </TPL>\n",
      "150: <TPL> APM driver reports BIOS version 1.2 with flags 0x03 and driver version 1.16ac. </TPL>\n",
      "160: <TPL> Bringing up loopback interface succeeded. </TPL>\n",
      "170: <TPL> Accessing website chrome.exe through HTTPS proxy server proxy.cse.cuhk.edu.hk on port 5070. </TPL>\n",
      "180: <TPL> Send worker leaving thread. </TPL>\n",
      "190: <TPL> An unexpected exception occurred in the CommitProcessor while handling a connection. </TPL>\n",
      "200: <TPL>FOLLOWING</TPL>\n",
      "210: <TPL> tickTime parameter is configured to 2000 milliseconds. </TPL>\n",
      "220: <TPL> Notification received indicating following a leader with specific details. </TPL>\n",
      "230: <TPL> Kernel information: CE sym 2, memory address 0x0b85eee0, mask 0x05. </TPL>\n",
      "240: <TPL> Kernel fatal error occurred at instruction address 0x00004ed8. </TPL>\n",
      "250: <TPL> RAS KERNEL FATAL machine state register: 0x00002000. </TPL>\n",
      "260: <TPL> System encountered a fatal error related to data address space. </TPL>\n",
      "270: <TPL> Kernel fatal error occurred related to special purpose registers. </TPL>\n",
      "280: <TPL> Node card is not fully functional. </TPL>\n",
      "290: <TPL> Z coordinate exceeds physical dimension at line of node map file. </TPL>\n",
      "300: <TPL> RTS tree/torus link training failed due to mismatch in expected and received configurations. </TPL>\n",
      "310: <TPL> Detected the debugger died. </TPL>\n",
      "320: <TPL> Kernel fatal error due to receiving incorrect packet type on the network. </TPL>\n",
      "330: <TPL> Error occurred while reading message prefix on CioStream socket to specific IP address, resulting in severed link. </TPL>\n",
      "340: <TPL>RAS KERNEL FATAL fraction rounded</TPL>\n",
      "350: <TPL> YARN application master received a token for resource manager communication. </TPL>\n",
      "360: <TPL> Adding job token for job_1445144423722_0020 to jobTokenSecretManager. </TPL>\n",
      "370: <TPL> IPC Server Responder starting. </TPL>\n",
      "380: <TPL> Extracting jar file from source to destination directory for a web application in a temporary Jetty folder. </TPL>\n",
      "390: <TPL> The RMContainerAllocator in the Hadoop MapReduce application allocated a container to the default queue. </TPL>\n",
      "400: <TPL> Event Writer setup for JobId: job_1445144423722_0020, File: hdfs://msra-sa-41:9000/tmp/hadoop-yarn/staging/msrabi/.staging/job_1445144423722_0020/job_1445144423722_0020_1.jhist. </TPL>\n",
      "410: <TPL> The job-conf file for a task attempt is located at /tmp/hadoop-yarn/staging/msrabi/.staging/job_1445144423722_0020/job.xml. </TPL>\n",
      "420: <TPL> Task attempt transitioned from ASSIGNED to RUNNING. </TPL>\n",
      "430: <TPL> Task attempt acknowledgement received for job attempt_1445144423722_0020, map task 000003. </TPL>\n",
      "440: <TPL> Speculation launched: 1 instance. Waiting for 15 seconds. </TPL>\n",
      "450: <TPL> Retrying connection to server msra-sa-41:8030 with a maximum of 10 retries and a fixed sleep time of 1000 milliseconds. </TPL>\n",
      "460: <TPL> 1 failures on node MININT-FNANLI5.fareast.corp.microsoft.com. </TPL>\n",
      "470: <TPL> Wake Reason: Wake on Scan offload. </TPL>\n",
      "480: <TPL> PM response took 2010 ms </TPL>\n",
      "\n",
      "<TPL> Power management response time was 2010 milliseconds. </TPL>\n",
      "490: <TPL> AirPort_Brcm43xx platform enables WoW functionality. </TPL>\n",
      "500: <TPL> Network interface wl0 is configured to maintain a keep-alive connection with a remote server on port 443. </TPL>\n",
      "510: <TPL> Button report with code 0x8002be0 was generated by the QQ class at timestamp Jul 1 10:46:48. </TPL>\n",
      "520: <TPL> Hashing of the primary key failed. Dropping the journal record. </TPL>\n",
      "530: <TPL> en0 network interface's BSSID was updated to 5c:50:15:36:bc:03. </TPL>\n",
      "540: <TPL> Bluetooth device controller detected disconnection event. </TPL>\n",
      "550: <TPL> Error occurred with code -50 due to a missing class name in a query parameter list. </TPL>\n",
      "560: <TPL> Found 448015 pages in hibernate_page_list_setall function. </TPL>\n",
      "570: <TPL> Setting up keepalive feature for wireless network interface with local IP address 10.105.163.202. </TPL>\n",
      "580: <TPL> Error occurred when setting a property due to an invalidation issue in the WebKit WebContent component. </TPL>\n",
      "590: <TPL> Reading 1926 bytes from stdin using KSHelperTool. </TPL>\n",
      "600: <TPL> ASL Module \"com.apple.performance\" claims selected messages, which may not appear in standard system log files or ASL database. </TPL>\n",
      "610: <TPL> Wake on TCP Timeout detected by ARPT module at timestamp 673325.798753. </TPL>\n",
      "620: <TPL> Corecaptured module captured a log file. </TPL>\n",
      "630: <TPL> Starting AirDrop server for user on wake. </TPL>\n",
      "640: <TPL> Connection attempt failed to destination IP and port due to network being unreachable. </TPL>\n",
      "650: <TPL> Calling IOBluetoothFamily's registerService() with specific parameters. </TPL>\n",
      "660: <TPL> Payload data with hexadecimal values 07 00 was processed by the kernel on Jul 3 at 18:57:57. </TPL>\n",
      "670: <TPL> Encountered a TLS session error (error code 60) while handling a read error in Safari. </TPL>\n",
      "680: <TPL> Failed to update account with identifier 76FE6715-3D27-4F21-AA35-C88C1EA820E8 due to an error in the address book. </TPL>\n",
      "690: <TPL> Invalidating watch set. </TPL>\n",
      "700: <TPL> System hibernation process completed successfully with a runtime map creation time of 0 milliseconds. </TPL>\n",
      "710: <TPL> Power source information: Device woke up from normal sleep without external connection, with 4551 seconds of remaining time. </TPL>\n",
      "720: <TPL> GoogleSoftwareUpdateAgent fetching update from URL: \"https://tools.google.com/service/update2?cup2hreq=ac844e04cbb398fcef4cf81b4ffc44a3ebc863e89d19c0b5d39d02d78d26675b&cup2key=7:677488741\". </TPL>\n",
      "730: <TPL> Bluetooth host controller USB transport successfully started with a positive result. </TPL>\n",
      "740: <TPL> AppleMultitouchDevice::start entered. </TPL>\n",
      "750: <TPL> The ChromeExtension with process ID 36852 accessed the URL www.baidu.com. </TPL>\n",
      "760: <TPL> PM response took 129 ms </TPL>\n",
      "770: <TPL> Unable to satisfy constraints for layout, attempting recovery by breaking a specific constraint. Suggested debugging steps provided. </TPL>\n",
      "780: <TPL> Failure in starting network helper connection, triggering backtrace dump with relevant system libraries and functions. </TPL>\n",
      "790: <TPL> Failed connection due to missing setter or instance variable when trying to connect NSApplication to NSColorPickerGridView. </TPL>\n",
      "800: <TPL> Arranged view frame with dimensions 260x877 for WeChat application. </TPL>\n",
      "810: <TPL> Calculate total calories with cache for a specific process. </TPL>\n",
      "820: <TPL> Upload one minute data to engine for step FlushableStepDataCache with a time of 25233975 ms, success rate of 93%, and 20002 data points. </TPL>\n",
      "830: <TPL> ListenerManager started changing listener with ID 30002312 by subscribing to a new list with ID 1. </TPL>\n",
      "840: <TPL> Start inserting sport synchronization with the first 500 steps sync, performing all sync operations. </TPL>\n",
      "850: <TPL> Inserting data successfully into a cache with type 0 and boolean value true. </TPL>\n",
      "860: <TPL> Initialization of the environment for the StandStepDataManager module with ID 30002312. </TPL>\n",
      "870: <TPL> User set the total steps difference to 0 using a utility function in the system. </TPL>\n",
      "880: <TPL> Invalid user 'webmaster' attempted to authenticate via SSH. </TPL>\n",
      "890: <TPL> Multiple authentication failures for root user from IP address 5.36.59.76. </TPL>\n",
      "900: <TPL> User 'fztu' successfully logged in via SSH session. </TPL>\n",
      "910: <TPL> Remoting started; listening on addresses </TPL>\n",
      "920: <TPL> BlockManagerMaster registered a new BlockManager. </TPL>\n",
      "930: <TPL> The log message indicates that the usage of 'mapred.task.id' is deprecated and suggests using 'mapreduce.task.attempt.id' instead. </TPL>\n",
      "940: <TPL> PacketResponder 1 for block blk_38865049064139660 terminating. </TPL>\n",
      "950: <TPL> Initiating transfer of a data block between two DataNodes. </TPL>\n",
      "960: <TPL> Active base files in the image cache for the Nova compute service at the specified location. </TPL>\n",
      "970: <TPL> Compute service record updated for a specific virtual machine instance. </TPL>\n",
      "980: <TPL> Removing base or swap file from the specified directory. </TPL>\n",
      "990: <TPL> Creating image for instance with ID 96abccce-8d1f-4e07-b6d1-4b2ab87e23b4. </TPL>\n",
      "1000: <TPL> data_thread() did not receive a response from any [Thunderbird_A8] datasource in Ganglia monitoring system. </TPL>\n",
      "1010: <TPL> DHCPDISCOVER received from device with MAC address 00:11:43:e3:ba:c3 via interface eth1. </TPL>\n",
      "1020: <TPL> SNMP daemon received SNMP packet(s) from a specific source. </TPL>\n",
      "1030: <TPL> ACPI: IOAPIC (id[0x08] address[0xfec00000] gsi_base[0]) </TPL>\n",
      "1040: <TPL> ACPI: PCI Root Bridge [PCI0] (00:00) </TPL>\n",
      "1050: <TPL> CPU has a trace cache of 12K uops and L1 D cache of 16K on tbird-admin1 at 12:10:43 local time. </TPL>\n",
      "1060: <TPL> Probing PCI hardware on bus 00. </TPL>\n",
      "1070: <TPL> SELinux: Unregistering netfilter hooks. </TPL>\n",
      "1080: <TPL> Checking TSC synchronization across 4 CPUs passed. </TPL>\n",
      "1090: <TPL> Assuming system bus speed for PIO modes as 33MHz; option to override with idebus=xx. </TPL>\n",
      "1100: <TPL> Detecting and initializing a new storage device with specific identifiers on bus 2, slot 14, function 0. </TPL>\n",
      "1110: <TPL> Request for cache data failed on disk sda. </TPL>\n",
      "1120: <TPL> Using HPET based timekeeping. </TPL>\n",
      "1130: <TPL> Mounting NFS filesystems succeeded. </TPL>\n",
      "1140: <TPL> xinetd service successfully started on tbird-admin1 at 12:11:00 local time. </TPL>\n"
     ]
    }
   ],
   "source": [
    "# Step 1: Reformulate log messages with semantic understanding\n",
    "counter=0\n",
    "enhanced_prompts = []\n",
    "enhanced_prompts_file_path = os.path.join(save_dir_now, \"enhanced_prompts.txt\")\n",
    "for raw_log in raw_logs:\n",
    "    new_prompt=f\"\"\"You are provided with a log message. Your task is to understand and extract the meaning behind the semi-structured log message.\n",
    "                      \n",
    "                    Log message: {raw_log}. \n",
    "\n",
    "                    A log message usually contains a header that is automatically produced by the logging framework, including information such as timestamp, class, and logging level (INFO, DEBUG, WARN etc.).\n",
    "                    Ignore all these details and just understand meaning behind the natural languagae text which is in the log content.\n",
    "\n",
    "                    The log content typically consists of many parts: \n",
    "                    1. Template - message body, that contains constant strings (or keywords) describing the system events; \n",
    "                    2. Parameters/Variables - dynamic variables, which reflect specific runtime status;\n",
    "\n",
    "                    Please capture the essential context and meaning from the log message to understand the reasoning behind each raw log.\n",
    "                    Provide only the meaning in 20-25 words from each log message surrounded by <TPL> and </TPL>. \n",
    "                    Never provide an explanation of how the meaning is constructed.\n",
    "                \"\"\"\n",
    "    \n",
    "    enhanced_prompt = get_completion_from_gpt(new_prompt)\n",
    "    enhanced_prompts.append(enhanced_prompt)\n",
    "    if counter % 10 == 0:\n",
    "        print(f'{counter}: {enhanced_prompt}')\n",
    "    counter+=1    \n"
   ]
  },
  {
   "cell_type": "code",
   "execution_count": 9,
   "metadata": {},
   "outputs": [
    {
     "name": "stdout",
     "output_type": "stream",
     "text": [
      "1146\n"
     ]
    }
   ],
   "source": [
    "print(len(enhanced_prompts))"
   ]
  },
  {
   "cell_type": "code",
   "execution_count": 10,
   "metadata": {},
   "outputs": [
    {
     "name": "stdout",
     "output_type": "stream",
     "text": [
      "Semantic log templates saved to: /Users/navneetsharma/Documents/NMBU/MS Data Science @ NMBU/Master's Thesis/semantic_log_parsing/results/Semantic_20241128221046/enhanced_prompts.txt\n"
     ]
    }
   ],
   "source": [
    "# save and format output data in a csv file\n",
    "Format_output.save_raw_output(enhanced_prompts_file_path, enhanced_prompts)\n",
    "\n",
    "# Save all semantic log templates to a file\n",
    "print(f\"Semantic log templates saved to: {enhanced_prompts_file_path}\")"
   ]
  },
  {
   "cell_type": "code",
   "execution_count": 11,
   "metadata": {},
   "outputs": [
    {
     "name": "stdout",
     "output_type": "stream",
     "text": [
      "Processed output saved to: /Users/navneetsharma/Documents/NMBU/MS Data Science @ NMBU/Master's Thesis/semantic_log_parsing/results/Semantic_20241128221046/enhanced_prompts.txt\n"
     ]
    }
   ],
   "source": [
    "# convert raw output into formatted file \n",
    "Format_output.remove_TPL_from_output(enhanced_prompts_file_path, enhanced_prompts_file_path)"
   ]
  },
  {
   "cell_type": "code",
   "execution_count": 12,
   "metadata": {},
   "outputs": [
    {
     "name": "stdout",
     "output_type": "stream",
     "text": [
      "0: <TPL>workerEnv.init() ok <*> </TPL>\n",
      "10: <TPL>node-162 action start <*> <*> boot (command <*>)</TPL>\n",
      "20: <TPL>An ServerFileSystem domain panic has occurred on storage442</TPL>\n",
      "30: <TPL>ServerFileSystem domain cluster_root_backup is no longer served by node <*> </TPL>\n",
      "40: <TPL>gige temperature <*> <*> normal</TPL>\n",
      "50: <TPL>node node-148 has detected an available network connection on network <*> via interface alt0</TPL>\n",
      "60: <TPL>User unknown timed out after <*> seconds at <*> </TPL>\n",
      "70: <TPL>session opened for user <*> by LOGIN(uid=*)</TPL>\n",
      "80: <TPL> warning: can't get client address: Connection reset by peer </TPL>\n",
      "90: <TPL>klogd startup succeeded</TPL>\n",
      "100: <TPL>Kernel command line: ro root=LABEL=/ rhgb quiet</TPL>\n",
      "110: <TPL>Console: colour VGA+ 80x25</TPL>\n",
      "120: <TPL>rpc.idmapd startup succeeded</TPL>\n",
      "130: <TPL>Enabling unmasked SIMD FPU exception support... done.</TPL>\n",
      "140: <TPL>Linux Plug and Play Support v0.97 (c) Adam Belay</TPL>\n",
      "150: <TPL>apm: BIOS version <*> Flags <*> (Driver version <*>)</TPL>\n",
      "160: <TPL>Bringing up loopback interface:  succeeded</TPL>\n",
      "170: <TPL>chrome.exe - proxy.cse.cuhk.edu.hk:<*> open through proxy proxy.cse.cuhk.edu.hk:<*> HTTPS</TPL>\n",
      "180: <TPL>Send worker leaving thread</TPL>\n",
      "190: <TPL>Unexpected Exception:</TPL>\n",
      "200: <TPL>[QuorumPeer[myid=1]/0:0:0:0:0:0:0:0:2181:QuorumPeer@738] - FOLLOWING</TPL>\n",
      "210: <TPL>tickTime set to <*> </TPL>\n",
      "220: <TPL>Notification: <*> (n.leader), <*> (n.zxid), <*> (n.round), FOLLOWING (n.state), <*> (n.sid), <*> (n.peerEPoch), LEADING (my state)</TPL>\n",
      "230: <TPL>CE sym <*>, at <*>, mask <*></TPL>\n",
      "240: <TPL>RAS KERNEL FATAL instruction address: 0x<*> </TPL>\n",
      "250: <TPL>RAS KERNEL FATAL machine state register: 0x<*> </TPL>\n",
      "260: <TPL>FATAL data address space................*</TPL>\n",
      "270: <TPL>special purpose registers:</TPL>\n",
      "280: <TPL>Node card is not fully functional</TPL>\n",
      "290: <TPL>ciod: Z coordinate <*> exceeds physical dimension <*> at line <*> of node map file <*> </TPL>\n",
      "300: <TPL>rts tree/torus link training failed: wanted: <*> <*> <*>+ <*>- <*>+ <*>- <*>+ <*>- got: <*> <*> <*>- <*>- <*>+ <*>+</TPL>\n",
      "310: <TPL>Detected the debugger died.</TPL>\n",
      "320: <TPL>Kernel FATAL Error receiving packet on tree network, expecting type <*> instead of type <*> (softheader= <*> <*> <*> <*>) PSR0= <*> PSR1= <*> PRXF= <*> PIXF= <*> </TPL>\n",
      "330: <TPL>Error reading message prefix on CioStream socket to <*>:<*>, Link has been severed</TPL>\n",
      "340: <TPL>FATAL fraction rounded.........................<*></TPL>\n",
      "350: <TPL>Kind: YARN_AM_RM_TOKEN, Service: , Ident: (appAttemptId { application_id { id: <*> cluster_timestamp: <*> } attemptId: <*> } keyId: <*>)</TPL>\n",
      "360: <TPL>Adding job token for job_* to jobTokenSecretManager</TPL>\n",
      "370: <TPL>IPC Server Responder: starting</TPL>\n",
      "380: <TPL>Extract jar:file:*!/webapps/mapreduce to <*> </TPL>\n",
      "390: <TPL>queue: <*> </TPL>\n",
      "400: <TPL>Event Writer setup for JobId: <*>, File: hdfs://msra-sa-41:9000/tmp/hadoop-yarn/staging/msrabi/.staging/job_<*>/job_<*>_<*>.jhist</TPL>\n",
      "410: <TPL>The job-conf file on the remote FS is /tmp/hadoop-yarn/staging/msrabi/.staging/job_1445144423722_0020/job.xml</TPL>\n",
      "420: <TPL>attempt_<*>_<*>_<*>_<*> TaskAttempt Transitioned from ASSIGNED to RUNNING</TPL>\n",
      "430: <TPL>Done acknowledgement from attempt_<*>_<*>_<*>_<*></TPL>\n",
      "440: <TPL>We launched <*> speculations.  Sleeping <*> milliseconds.</TPL>\n",
      "450: <TPL>Retrying connect to server: <*>:<*>. Already tried <*> time(s); retry policy is RetryUpToMaximumCountWithFixedSleep(maxRetries=*, sleepTime=* MILLISECONDS)</TPL>\n",
      "460: <TPL>1 failures on node <*> </TPL>\n",
      "470: <TPL>Wake Reason: Wake on Scan offload</TPL>\n",
      "480: <TPL>PM response took <*> ms</TPL>\n",
      "490: <TPL>AirPort_Brcm43xx::platformWoWEnable: WWEN[<*>]</TPL>\n",
      "500: <TPL>ARPT: <*>: wl0: setup_keepalive: Local port: <*>, Remote port: 443</TPL>\n",
      "510: <TPL>button report: 0x<*> </TPL>\n",
      "520: <TPL>Hashing of the primary key failed. Dropping the journal record.</TPL>\n",
      "530: <TPL>en0: BSSID changed to <*> </TPL>\n",
      "540: <TPL>[BluetoothHIDDeviceController] EventServiceDisconnectedCallback</TPL>\n",
      "550: <TPL>SecOSStatusWith error:[-50] Error Domain=NSOSStatusErrorDomain Code=-50 \"query missing class name\" (paramErr: error in user parameter list) UserInfo={NSDescription=query missing class name}</TPL>\n",
      "560: <TPL>hibernate_page_list_setall found pageCount <*> </TPL>\n",
      "570: <TPL>ARPT: <*>: wl0: setup_keepalive: Local IP: <*> </TPL>\n",
      "580: <TPL>itemasync_SetProperty signalled err=<*> (kFigBaseObjectError_Invalidated) (invalidated) at <*></TPL>\n",
      "590: <TPL>KSHelperTool read <*> bytes from stdin.</TPL>\n",
      "600: <TPL>ASL Module \"com.apple.performance\" claims selected messages, which may not appear in standard system log files or in the ASL database.</TPL>\n",
      "610: <TPL>ARPT: <*>: ARPT: Wake Reason: Wake on TCP Timeout</TPL>\n",
      "620: <TPL>CCFile::captureLog</TPL>\n",
      "630: <TPL>Starting AirDrop server for user <*> on wake</TPL>\n",
      "640: <TPL>tcp_connection_destination_perform_socket_connect <*> connectx to <*>:<*> failed: [<*>] Network is unreachable</TPL>\n",
      "650: <TPL>[IOBluetoothFamily][ProcessBluetoothTransportShowsUpActionWL] -- calling IOBluetoothFamily's registerService() -- <*> -- <*> -- <*> </TPL>\n",
      "660: <TPL>payload Data <*> <*> </TPL>\n",
      "670: <TPL>tcp_connection_tls_session_error_callback_imp 2210 tcp_connection_tls_session_handle_read_error.790 error <*> </TPL>\n",
      "680: <TPL>Failed to update account with identifier <*>, error: Error Domain=ABAddressBookErrorDomain Code=1002 \"(null)\"</TPL>\n",
      "690: <TPL>Invalidating watch set.</TPL>\n",
      "700: <TPL>hibernate_newruntime_map time: <*> ms, IOPolledFilePollersOpen(), ml_get_interrupts_enabled <*></TPL>\n",
      "710: <TPL>IOPMPowerSource Information: onWake,  SleepType: Normal Sleep,  'ExternalConnected': <*>, 'TimeRemaining': <*></TPL>\n",
      "720: <TPL>GoogleSoftwareUpdateAgent fetching from URL: \"https://tools.google.com/service/update2?cup2hreq=ac844e04cbb398fcef4cf81b4ffc44a3ebc863e89d19c0b5d39d02d78d26675b&cup2key=7:677488741\"</TPL>\n",
      "730: <TPL>[IOBluetoothHostControllerUSBTransport][start] -- completed -- result = <*> -- <*></TPL>\n",
      "740: <TPL>AppleMultitouchDevice::start entered</TPL>\n",
      "750: <TPL>url host = <*> </TPL>\n",
      "760: <TPL>PM response took <*> ms</TPL>\n",
      "770: <TPL>Unable to simultaneously satisfy constraints: ( \"<NSLayoutConstraint:0x7f8efa7db140 H:[NSImageView:0x7f8efa7db900(38)]>\", \"<NSLayoutConstraint:0x7f8efa7cbe00 H:|-(14)-[NSImageView:0x7f8efa7db900]   (Names: PageItemCell:0x7f8efa7cb450, '|':PageItemCell:0x7f8efa7cb450 )>\", \"<NSLayoutConstraint:0x7f8f17556f20 'NSView-Encapsulated-Layout-Width' H:[PageItemCell(73)]   (Names: PageItemCell:0x7f8efa7cb450 )>\", \"<NSLayoutConstraint:0x7f8efa7dc1c0 H:[NSImageView:0x7f8efa7db900]-(10)-[NSTextField:0x7f8efa7da9a0]>\", \"<NSLayoutConstraint:0x7f8efa7cbf70 H:[NSTextField:0x7f8f02f1da90]-(14)-|   (Names: PageItemCell:0x7f8efa7cb450, '|':PageItemCell:0x7f8efa7cb450 )>\", \"<NSLayoutConstraint:0x7f8efa7dc350 H:[NSTextField:0x7f8efa7da9a0]-(>=NSSpace(8))-[NSTextField:0x7f8f02f1da90]>\" )  Will attempt to recover by breaking constraint <NSLayoutConstraint:0x7f8efa7db140 H:[NSImageView:0x7f8efa7db900(38)]></TPL>\n",
      "780: <TPL>nw_path_evaluator_start_helper_connection net_helper_path_evaluation_start failed, dumping backtrace: [x86_64] libnetcore-583.50.1 0   libsystem_network.dylib             0x00007fff92fabde9 __nw_create_backtrace_string + 123 1   libsystem_network.dylib             0x00007fff92fc289f nw_path_evaluator_start_helper_connection + 196 2   libdispatch.dylib                   0x00007fff980fa93d _dispatch_call_block_and_release + 12 3   libdispatch.dylib                   0x00007fff980ef40b _dispatch_client_callout + 8 4   libdispatch.dylib                   0x00007fff980f403b _dispatch_queue_drain + 754 5   libdispatch.dylib                   0x00007fff980fa707 _dispatch_queue_invoke + 549 6   libdispatch.dylib                   0x00007fff980f2d53 _dispatch_root_queue_drain + 538 7   libdispatch.dylib                   0x00007fff980f2b00 _dispatch_worker_thread3 + 91 8   libsystem_pthread.dylib             0x00007fff8ebc44de _pthread_wqthread + 1129 9   libsystem_pthread.dylib             0x00007fff8ebc2341 start_wqthread + 13</TPL>\n",
      "790: <TPL>Failed to connect (view) outlet from (NSApplication) to (NSColorPickerGridView): missing setter or instance variable</TPL>\n",
      "800: <TPL>Arranged view frame: {{*, *}, {*, *}}</TPL>\n",
      "810: <TPL>calculateCaloriesWithCache totalCalories=*</TPL>\n",
      "820: <TPL>upLoadOneMinuteDataToEngine time=*,*,*,*,*</TPL>\n",
      "830: <TPL>startListenerChange subscribeList = [*]</TPL>\n",
      "840: <TPL>startInsertSportSync first <*> steps sync,do all sync</TPL>\n",
      "850: <TPL>InsertCallBack() onSuccess  type = <*> data=*</TPL>\n",
      "860: <TPL>Step_StandStepDataManager|30002312|initEnviroument</TPL>\n",
      "870: <TPL>setDiffTotalSteps=0</TPL>\n",
      "880: <TPL>input_userauth_request: invalid user <*> [preauth]</TPL>\n",
      "890: <TPL>Multiple authentication failures for root user from IP address <*>.</TPL>\n",
      "900: <TPL>pam_unix(sshd:session): session opened for user <*> by (uid=*)</TPL>\n",
      "910: <TPL>Remoting started; listening on addresses :[*]</TPL>\n",
      "920: <TPL>Registered BlockManager</TPL>\n",
      "930: <TPL>mapred.task.id is deprecated. Instead, use mapreduce.task.attempt.id</TPL>\n",
      "940: <TPL>PacketResponder <*> for block blk_<*> terminating</TPL>\n",
      "950: <TPL>Starting thread to transfer block blk_<*> to <*>:<*></TPL>\n",
      "960: <TPL>Active base files: /var/lib/nova/instances/_base/<*></TPL>\n",
      "970: <TPL>Compute_service record updated for <*>:<*></TPL>\n",
      "980: <TPL>Removing base or swap file: <*> </TPL>\n",
      "990: <TPL>Creating image for instance with ID <*> </TPL>\n",
      "1000: <TPL>data_thread() did not receive a response from any [Thunderbird_A8] datasource</TPL>\n",
      "1010: <TPL>DHCPDISCOVER from <*> via <*> </TPL>\n",
      "1020: <TPL>Received SNMP packet(s) from <*> </TPL>\n",
      "1030: <TPL>ACPI: IOAPIC (id[*] address[*] gsi_base[*])</TPL>\n",
      "1040: <TPL>ACPI: PCI Root Bridge [PCI0] (<*>)</TPL>\n",
      "1050: <TPL>CPU: Trace cache: <*> uops, L1 D cache: <*> </TPL>\n",
      "1060: <TPL>Probing PCI hardware (bus <*>)</TPL>\n",
      "1070: <TPL>SELinux: Unregistering netfilter hooks</TPL>\n",
      "1080: <TPL>checking TSC synchronization across <*> CPUs: passed.</TPL>\n",
      "1090: <TPL>Assuming <*> system bus speed for PIO modes; override with idebus=xx</TPL>\n",
      "1100: <TPL>probe new device <*>:0x<*>:0x<*>:0x<*>: bus <*>:slot <*>:func <*> </TPL>\n",
      "1110: <TPL>asking for cache data failed</TPL>\n",
      "1120: <TPL>Using HPET based timekeeping.</TPL>\n",
      "1130: <TPL>Mounting NFS filesystems: succeeded</TPL>\n",
      "1140: <TPL>xinetd startup succeeded</TPL>\n"
     ]
    }
   ],
   "source": [
    "# Step 2: Generate log template using zero-shot learning\n",
    "counter_1 = 0\n",
    "enhanced_templates = []\n",
    "semantic_log_template_output_file_path = semantic_raw_output_file_path\n",
    "for raw_log, enhanced_prompt in zip(raw_logs, enhanced_prompts):\n",
    "    semantic_prompt = f\"\"\"You will be provided with a log message delimited by <MSG> and </MSG>. \n",
    "    You are also provided with the meaning or understanding from the log message as follow: {enhanced_prompt}. \n",
    "    \n",
    "    The log message typically consists of two parts: \n",
    "    1. Template - message body, that contains constant strings (or keywords) describing the system events; \n",
    "    2. Parameters/Variables - dynamic variables, which reflect specific runtime status.\n",
    "    You must identify and abstract all the dynamic variables in the log message with suitable placeholders inside angle brackets to extract the corresponding template.\n",
    "    You must output the template corresponding to the log message. Print only the input log's template surrounded by <TPL> and </TPL>. \n",
    "    Never print an explanation of how the template is constructed.\n",
    "    Here are a few examples of log messages (labeled with Q:) and corresponding templates (labeled with A:):\n",
    "\n",
    "    Q: <MSG>[081109 204453 34 INFO dfs.FSNamesystem: BLOCK* NameSystem.addStoredBlock: blockMap updated: 10.250.11.85:50010 is added to blk_2377150260128098806 size 67108864]</MSG>\n",
    "    A: <TPL>[BLOCK* NameSystem.addStoredBlock: blockMap updated: <*>:<*> is added to <*> size <*>]</TPL>\n",
    "\n",
    "    Q: <MSG>- 1129734520 2005.10.19 R17-M0-N0-I:J18-U01 2005-10-19-08.08.40.058960 R17-M0-N0-I:J18-U01 RAS KERNEL INFO shutdown complete</MSG>\n",
    "    A: <TPL>shutdown complete</TPL>\n",
    "\n",
    "    Q: <MSG>20231114T101914E ERROR 14 while processing line 123: cannot find input '42'</MSG>\n",
    "    A: <TPL>ERROR <*> while processing line <*>: cannot find input <*></TPL>\n",
    "\n",
    "    Q: <MSG>2023-01-14 23:05:14 INFO: Reading data from /user/input/file.txt</MSG>\n",
    "    A: <TPL>Reading data from <*> </TPL>\n",
    "    Here is the input log message: <MSG>{raw_log}</MSG>\n",
    "    Please print the corresponding template.\n",
    "    \"\"\"\n",
    "    response = get_completion_from_gpt(semantic_prompt)\n",
    "    enhanced_templates.append(response)\n",
    "\n",
    "    if counter_1 % 10 == 0:\n",
    "        print(f'{counter_1}: {response}')\n",
    "        \n",
    "    counter_1+=1      \n",
    "\n"
   ]
  },
  {
   "cell_type": "code",
   "execution_count": 13,
   "metadata": {},
   "outputs": [
    {
     "name": "stdout",
     "output_type": "stream",
     "text": [
      "Semantic log templates saved to: /Users/navneetsharma/Documents/NMBU/MS Data Science @ NMBU/Master's Thesis/semantic_log_parsing/results/Semantic_20241128221046/enhanced_prompts.txt\n"
     ]
    }
   ],
   "source": [
    "# save and format output data in a csv file\n",
    "Format_output.save_raw_output(semantic_log_template_output_file_path, enhanced_templates)\n",
    "\n",
    "# Save all semantic log templates to a file\n",
    "print(f\"Semantic log templates saved to: {enhanced_prompts_file_path}\")"
   ]
  },
  {
   "cell_type": "code",
   "execution_count": 14,
   "metadata": {},
   "outputs": [
    {
     "name": "stdout",
     "output_type": "stream",
     "text": [
      "Processed output saved to: /Users/navneetsharma/Documents/NMBU/MS Data Science @ NMBU/Master's Thesis/semantic_log_parsing/results/Semantic_20241128221046/semantic_raw_results/semantic_output.txt\n"
     ]
    }
   ],
   "source": [
    "# convert raw output into formatted file \n",
    "Format_output.remove_TPL_from_output(semantic_log_template_output_file_path, semantic_log_template_output_file_path)"
   ]
  },
  {
   "cell_type": "code",
   "execution_count": 15,
   "metadata": {},
   "outputs": [],
   "source": [
    "# File paths\n",
    "processed_output_file_path = semantic_log_template_output_file_path\n"
   ]
  },
  {
   "cell_type": "code",
   "execution_count": 16,
   "metadata": {},
   "outputs": [],
   "source": [
    "# Load processed output data\n",
    "with open(processed_output_file_path, 'r') as processed_file:\n",
    "    processed_templates = [line.strip() for line in processed_file.readlines()]\n",
    "\n",
    "# Ensure the lists are of the same length for comparison\n",
    "min_length = min(len(ground_truth_templates), len(processed_templates))\n",
    "ground_truth_templates = ground_truth_templates[:min_length]\n",
    "processed_templates = processed_templates[:min_length]\n",
    "ground_truth_systems = ground_truth_systems[:min_length]\n",
    "\n"
   ]
  },
  {
   "cell_type": "code",
   "execution_count": 17,
   "metadata": {},
   "outputs": [
    {
     "name": "stdout",
     "output_type": "stream",
     "text": [
      "Parsing Accuracy: 35.51%\n",
      "Precision: 35.38%\n",
      "Recall: 35.51%\n",
      "F1 Score: 35.37%\n"
     ]
    }
   ],
   "source": [
    "# Calculate evaluation metrics\n",
    "accuracy = accuracy_score(ground_truth_templates, processed_templates)\n",
    "precision = precision_score(ground_truth_templates, processed_templates, average='weighted', zero_division=0)\n",
    "recall = recall_score(ground_truth_templates, processed_templates, average='weighted', zero_division=0)\n",
    "f1 = f1_score(ground_truth_templates, processed_templates, average='weighted', zero_division=0)\n",
    "\n",
    "# Print evaluation metrics\n",
    "print(f\"Parsing Accuracy: {accuracy * 100:.2f}%\")\n",
    "print(f\"Precision: {precision * 100:.2f}%\")\n",
    "print(f\"Recall: {recall * 100:.2f}%\")\n",
    "print(f\"F1 Score: {f1 * 100:.2f}%\")\n",
    "\n"
   ]
  },
  {
   "cell_type": "code",
   "execution_count": 19,
   "metadata": {},
   "outputs": [
    {
     "name": "stdout",
     "output_type": "stream",
     "text": [
      "\n",
      "Correctly Parsed Templates per System:\n",
      "Apache: 5\n",
      "HPC: 4\n",
      "Linux: 58\n",
      "Zookeeper: 30\n",
      "BGL: 28\n",
      "Hadoop: 41\n",
      "Mac: 112\n",
      "HealthApp: 40\n",
      "OpenSSH: 10\n",
      "Spark: 20\n",
      "HDFS: 1\n",
      "OpenStack: 8\n",
      "Thunderbird: 50\n",
      "Total correctly parsed logs: 407\n"
     ]
    }
   ],
   "source": [
    "# Calculate correctly parsed templates for each system\n",
    "correct_parsed_counts = {}\n",
    "for system, gt_template, processed_template in zip(ground_truth_systems, ground_truth_templates, processed_templates):\n",
    "    if gt_template == processed_template:\n",
    "        if system not in correct_parsed_counts:\n",
    "            correct_parsed_counts[system] = 0\n",
    "        correct_parsed_counts[system] += 1\n",
    "\n",
    "# Print correctly parsed templates for each system\n",
    "print(\"\\nCorrectly Parsed Templates per System:\")\n",
    "total=0\n",
    "for system, count in correct_parsed_counts.items():\n",
    "    total +=count\n",
    "    print(f\"{system}: {count}\")\n",
    "\n",
    "print(f\"Total correctly parsed logs: {total}\")"
   ]
  }
 ],
 "metadata": {
  "kernelspec": {
   "display_name": ".venv",
   "language": "python",
   "name": "python3"
  },
  "language_info": {
   "codemirror_mode": {
    "name": "ipython",
    "version": 3
   },
   "file_extension": ".py",
   "mimetype": "text/x-python",
   "name": "python",
   "nbconvert_exporter": "python",
   "pygments_lexer": "ipython3",
   "version": "3.9.6"
  }
 },
 "nbformat": 4,
 "nbformat_minor": 2
}
